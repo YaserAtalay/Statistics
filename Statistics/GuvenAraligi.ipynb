{
 "cells": [
  {
   "cell_type": "markdown",
   "id": "df7e130c-b40d-4901-926b-edff78be5bf4",
   "metadata": {},
   "source": [
    "# İş Uygulaması: Fiyat Stratejisi Karar Destek (Güven Aralığı)"
   ]
  },
  {
   "cell_type": "markdown",
   "id": "61cd4c3f-d4ba-4dca-b76d-e2e2f75ddaaa",
   "metadata": {},
   "source": [
    "* Problem: Ceo fiyat belirleme konusunda bilimsel bir dayanak ve esneklik istiyor\n",
    "* Detaylar: 1-Satıcı,alıcı ve bir ürün var 2-Alıcılara ne kadar ücret öderdiniz diye soruluyor 3-Optimum fiyat bilimsel ve esnek olarak bulunuyor"
   ]
  },
  {
   "cell_type": "code",
   "execution_count": 2,
   "id": "18175d76-4eaf-4b13-9619-9876c10537f1",
   "metadata": {},
   "outputs": [],
   "source": [
    "import numpy as np\n",
    "fiyatlar = np.random.randint(10,110,1000)"
   ]
  },
  {
   "cell_type": "code",
   "execution_count": 5,
   "id": "77fe8799-2a2a-4709-aec7-f528fe9e3baa",
   "metadata": {},
   "outputs": [
    {
     "data": {
      "text/plain": [
       "59.722"
      ]
     },
     "execution_count": 5,
     "metadata": {},
     "output_type": "execute_result"
    }
   ],
   "source": [
    "fiyatlar.mean()"
   ]
  },
  {
   "cell_type": "code",
   "execution_count": 6,
   "id": "ae97ea15-40fb-468f-b00a-e9da61d21a97",
   "metadata": {},
   "outputs": [],
   "source": [
    "import statsmodels.stats.api as sms"
   ]
  },
  {
   "cell_type": "code",
   "execution_count": 7,
   "id": "01f65f36-6968-4fc9-8c79-90cf7cdbf853",
   "metadata": {},
   "outputs": [
    {
     "data": {
      "text/plain": [
       "(57.927560337730434, 61.51643966226957)"
      ]
     },
     "execution_count": 7,
     "metadata": {},
     "output_type": "execute_result"
    }
   ],
   "source": [
    "sms.DescrStatsW(fiyatlar).tconfint_mean()"
   ]
  },
  {
   "cell_type": "code",
   "execution_count": null,
   "id": "c3b04189-d3f2-4db7-9ac3-882b4a597b87",
   "metadata": {},
   "outputs": [],
   "source": []
  }
 ],
 "metadata": {
  "kernelspec": {
   "display_name": "Python 3 (ipykernel)",
   "language": "python",
   "name": "python3"
  },
  "language_info": {
   "codemirror_mode": {
    "name": "ipython",
    "version": 3
   },
   "file_extension": ".py",
   "mimetype": "text/x-python",
   "name": "python",
   "nbconvert_exporter": "python",
   "pygments_lexer": "ipython3",
   "version": "3.9.13"
  }
 },
 "nbformat": 4,
 "nbformat_minor": 5
}
