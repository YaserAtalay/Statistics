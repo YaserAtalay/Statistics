{
 "cells": [
  {
   "cell_type": "markdown",
   "id": "3f790042-c7af-49b1-aced-428c82ba0a42",
   "metadata": {},
   "source": [
    "# İş Uygulaması: İlan Girişi Hata olasılıklarının Hesaplanması (Poisson)"
   ]
  },
  {
   "cell_type": "markdown",
   "id": "bc2dd194-485c-4572-a2e8-1586879e73f4",
   "metadata": {},
   "source": [
    "* Problem: Hatalı ilan girişi olasılıkları hesaplanmak isteniyor\n",
    "* Detaylar: 1-Bir yıl süresince ölçümler yapılıyor 2-Dağılım biliniyor(Poisson) ve lambda 0.1(Ortalama hata sayısı) 3-Hiç hata olmaması,3hata olması ve 5 hata olması olasılıkları nedir ?"
   ]
  },
  {
   "cell_type": "code",
   "execution_count": 3,
   "id": "b3ae2646-3473-4190-8f44-c9b1881cfc1c",
   "metadata": {},
   "outputs": [],
   "source": [
    "from scipy.stats import poisson"
   ]
  },
  {
   "cell_type": "code",
   "execution_count": 4,
   "id": "6d3e519d-2a47-4a71-b625-55eee9ec6891",
   "metadata": {},
   "outputs": [],
   "source": [
    "lambda_ = 0.1"
   ]
  },
  {
   "cell_type": "code",
   "execution_count": 5,
   "id": "5b41ab62-2272-46b8-b197-a26d9f1f711f",
   "metadata": {},
   "outputs": [
    {
     "name": "stdout",
     "output_type": "stream",
     "text": [
      "0.9048374180359595\n"
     ]
    }
   ],
   "source": [
    "rv = poisson(mu = lambda_ )\n",
    "print(rv.pmf(k = 0))"
   ]
  },
  {
   "cell_type": "code",
   "execution_count": 6,
   "id": "74622452-42e7-4292-8c53-51d49bc716d9",
   "metadata": {},
   "outputs": [
    {
     "name": "stdout",
     "output_type": "stream",
     "text": [
      "0.00015080623633932676\n"
     ]
    }
   ],
   "source": [
    "print(rv.pmf(k = 3))"
   ]
  },
  {
   "cell_type": "code",
   "execution_count": 7,
   "id": "4322c731-f8b6-4055-9d4e-1affc4710466",
   "metadata": {},
   "outputs": [
    {
     "name": "stdout",
     "output_type": "stream",
     "text": [
      "7.54031181696634e-08\n"
     ]
    }
   ],
   "source": [
    "print(rv.pmf(k = 5))"
   ]
  },
  {
   "cell_type": "code",
   "execution_count": null,
   "id": "9a8e3dbf-ed64-42d8-a69b-d15075bdc4fd",
   "metadata": {},
   "outputs": [],
   "source": []
  }
 ],
 "metadata": {
  "kernelspec": {
   "display_name": "Python 3 (ipykernel)",
   "language": "python",
   "name": "python3"
  },
  "language_info": {
   "codemirror_mode": {
    "name": "ipython",
    "version": 3
   },
   "file_extension": ".py",
   "mimetype": "text/x-python",
   "name": "python",
   "nbconvert_exporter": "python",
   "pygments_lexer": "ipython3",
   "version": "3.9.13"
  }
 },
 "nbformat": 4,
 "nbformat_minor": 5
}
