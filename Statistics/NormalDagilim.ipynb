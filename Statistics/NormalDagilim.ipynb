{
 "cells": [
  {
   "cell_type": "markdown",
   "id": "388613ae-12cc-4da0-b9c4-0524a4cab367",
   "metadata": {},
   "source": [
    "# İş Uygulaması: Ürün Satış Olasılıklarının Hesaplanması (Normal Dağılım)"
   ]
  },
  {
   "cell_type": "markdown",
   "id": "b9cd4558-7d23-4017-bdc0-0c5cb4e4dd37",
   "metadata": {},
   "source": [
    "* Problem: Bir yatırım/toplantı öncesinde gelecey ay ile ilgili satışların belirli değerlerde gerçekleşmesi olasılıkları belirlenmek isteniyor.\n",
    "* Detaylar: 1-Dağılımın normal olduğu biliniyor 2-Aylık ortalama satış sayısı 80k, Standart sapmasıysa 5k dır. 3-90kdan fazla satış yapma olasılığı nedir ?"
   ]
  },
  {
   "cell_type": "code",
   "execution_count": 1,
   "id": "0e3b4e5b-dd6a-4a33-835c-ad73bf19bb21",
   "metadata": {},
   "outputs": [],
   "source": [
    "import numpy as np\n",
    "from scipy.stats import norm"
   ]
  },
  {
   "cell_type": "markdown",
   "id": "c322bb24-4ee5-4d45-b1e7-2137baebea26",
   "metadata": {},
   "source": [
    "### 90dan Fazla olma olasılığı ? "
   ]
  },
  {
   "cell_type": "code",
   "execution_count": 3,
   "id": "789df9a8-bf0a-46d2-93c3-9cd4143373b1",
   "metadata": {},
   "outputs": [
    {
     "data": {
      "text/plain": [
       "0.02275013194817921"
      ]
     },
     "execution_count": 3,
     "metadata": {},
     "output_type": "execute_result"
    }
   ],
   "source": [
    "1-norm.cdf(90, 80, 5)"
   ]
  },
  {
   "cell_type": "markdown",
   "id": "d3a42c17-281d-4878-a513-a05d59d3b976",
   "metadata": {},
   "source": [
    "### 70den Fazla olma Olasılığı ?"
   ]
  },
  {
   "cell_type": "code",
   "execution_count": 4,
   "id": "f25c6483-80f5-48bf-b407-7edd8a6ecab9",
   "metadata": {},
   "outputs": [
    {
     "data": {
      "text/plain": [
       "0.9772498680518208"
      ]
     },
     "execution_count": 4,
     "metadata": {},
     "output_type": "execute_result"
    }
   ],
   "source": [
    "1-norm.cdf(70, 80, 5)"
   ]
  },
  {
   "cell_type": "markdown",
   "id": "62702c25-e67e-4c13-a594-faff37468c0a",
   "metadata": {},
   "source": [
    "### 73den az olma olasılığı ?"
   ]
  },
  {
   "cell_type": "code",
   "execution_count": 5,
   "id": "9af2b26f-8107-4c79-bb65-c7ef1a8966d6",
   "metadata": {},
   "outputs": [
    {
     "data": {
      "text/plain": [
       "0.08075665923377107"
      ]
     },
     "execution_count": 5,
     "metadata": {},
     "output_type": "execute_result"
    }
   ],
   "source": [
    "norm.cdf(73, 80, 5)"
   ]
  },
  {
   "cell_type": "markdown",
   "id": "9e869b47-2791-4109-ba7a-fbbcab45e27e",
   "metadata": {},
   "source": [
    "### 85 ile 90 arasında olması ? "
   ]
  },
  {
   "cell_type": "code",
   "execution_count": 6,
   "id": "80575ff4-27e9-40a9-80c9-c4a48ee7ed99",
   "metadata": {},
   "outputs": [
    {
     "data": {
      "text/plain": [
       "0.13590512198327787"
      ]
     },
     "execution_count": 6,
     "metadata": {},
     "output_type": "execute_result"
    }
   ],
   "source": [
    "norm.cdf(90, 80, 5) - norm.cdf(85, 80, 5)"
   ]
  },
  {
   "cell_type": "code",
   "execution_count": null,
   "id": "460c5607-621e-4605-9e3b-82f97b257110",
   "metadata": {},
   "outputs": [],
   "source": []
  }
 ],
 "metadata": {
  "kernelspec": {
   "display_name": "Python 3 (ipykernel)",
   "language": "python",
   "name": "python3"
  },
  "language_info": {
   "codemirror_mode": {
    "name": "ipython",
    "version": 3
   },
   "file_extension": ".py",
   "mimetype": "text/x-python",
   "name": "python",
   "nbconvert_exporter": "python",
   "pygments_lexer": "ipython3",
   "version": "3.9.13"
  }
 },
 "nbformat": 4,
 "nbformat_minor": 5
}
