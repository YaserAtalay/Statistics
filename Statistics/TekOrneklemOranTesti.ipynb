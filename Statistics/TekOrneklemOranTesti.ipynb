{
 "cells": [
  {
   "cell_type": "markdown",
   "id": "1c591a55-bfd2-4736-9554-3bab42fec3ab",
   "metadata": {},
   "source": [
    "# İş Uygulaması: Dönüşüm Oranı Testi (Tek Örneklem Oran Testi)"
   ]
  },
  {
   "cell_type": "markdown",
   "id": "80a8c29f-704b-44a3-8e49-341a707da65b",
   "metadata": {},
   "source": [
    "* Problem: Bir yazılım ile bir mecrada reklam verilmiş ve bu reklama ilişkin yazılım tarafından 0.125 dönüşüm oranı elde edildiği ifade edilmiş. Fakat bu durum kontrol edilmek isteniyor. Çünkü bu yüksek bir oran ve gelirler incelendiğinde örtüşmüyor.\n",
    "* Detaylar: 1-500 kişi dış mecrada reklamlara tıklamış, 40 tanesi sitemizde alışveriş yapmış. 2-Örnek üzerinden elde edilen dönüşüm oranı: 40/500 =0,08"
   ]
  },
  {
   "cell_type": "markdown",
   "id": "64960873-5cc9-454e-a3e9-6555e34ad2c9",
   "metadata": {},
   "source": [
    "H0: p = 0.125     H1: p != 0.125 "
   ]
  },
  {
   "cell_type": "code",
   "execution_count": 2,
   "id": "82ed32f8-d7e8-4469-81a2-ee5d29a50027",
   "metadata": {},
   "outputs": [],
   "source": [
    "from statsmodels.stats.proportion import proportions_ztest"
   ]
  },
  {
   "cell_type": "code",
   "execution_count": 3,
   "id": "a6a5d4ad-9122-415c-b290-a56415ae9c0a",
   "metadata": {},
   "outputs": [],
   "source": [
    "count = 40\n",
    "nobs = 500\n",
    "value = 0.125"
   ]
  },
  {
   "cell_type": "code",
   "execution_count": 4,
   "id": "676ecb69-ba76-4fc1-b50a-b592653e129c",
   "metadata": {},
   "outputs": [
    {
     "data": {
      "text/plain": [
       "(-3.7090151628513017, 0.0002080669689845979)"
      ]
     },
     "execution_count": 4,
     "metadata": {},
     "output_type": "execute_result"
    }
   ],
   "source": [
    "proportions_ztest(count,nobs,value)"
   ]
  },
  {
   "cell_type": "code",
   "execution_count": null,
   "id": "ed983b44-37d4-477a-9540-6194217f6acf",
   "metadata": {},
   "outputs": [],
   "source": []
  }
 ],
 "metadata": {
  "kernelspec": {
   "display_name": "Python 3 (ipykernel)",
   "language": "python",
   "name": "python3"
  },
  "language_info": {
   "codemirror_mode": {
    "name": "ipython",
    "version": 3
   },
   "file_extension": ".py",
   "mimetype": "text/x-python",
   "name": "python",
   "nbconvert_exporter": "python",
   "pygments_lexer": "ipython3",
   "version": "3.9.13"
  }
 },
 "nbformat": 4,
 "nbformat_minor": 5
}
