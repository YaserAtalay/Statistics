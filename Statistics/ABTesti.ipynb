{
 "cells": [
  {
   "cell_type": "markdown",
   "id": "2332aca9-360b-42b6-93ff-75c196f294c4",
   "metadata": {},
   "source": [
    "# İş Uygulaması: Kullanıcı Arayüzü Deneyi (AB Testi)"
   ]
  },
  {
   "cell_type": "markdown",
   "id": "5a2023ed-9bc6-4c6d-89eb-2f0b939f5102",
   "metadata": {},
   "source": [
    "* Problem: Kırmızı buton mu yoksa Yeşil buton mu kullanılmalı\n",
    "* Detay : Yeşil=1000 Görüntülenme 300 Tıklama ----- Kırmızı=1100 Görüntülenme 250 Tıklama\n",
    "* HO: P1=P2\n",
    "* H1: P1!=P2"
   ]
  },
  {
   "cell_type": "code",
   "execution_count": 2,
   "id": "cf455c6b-9552-4d3c-99f8-5be34b05b5af",
   "metadata": {},
   "outputs": [],
   "source": [
    "from statsmodels.stats.proportion import proportions_ztest\n",
    "import numpy as np\n",
    "import pandas as pd"
   ]
  },
  {
   "cell_type": "code",
   "execution_count": 3,
   "id": "38d9c896-fadf-49d0-99f0-e39e1d318915",
   "metadata": {},
   "outputs": [],
   "source": [
    "basari_sayisi = np.array([300,250])\n",
    "gozlem_sayisi = np.array([1000,1100])"
   ]
  },
  {
   "cell_type": "code",
   "execution_count": 4,
   "id": "27ae5776-017e-4373-b6a7-48e1a3978eb6",
   "metadata": {},
   "outputs": [
    {
     "data": {
      "text/plain": [
       "(3.7857863233209255, 0.0001532232957772221)"
      ]
     },
     "execution_count": 4,
     "metadata": {},
     "output_type": "execute_result"
    }
   ],
   "source": [
    "proportions_ztest(count = basari_sayisi, nobs = gozlem_sayisi)"
   ]
  },
  {
   "cell_type": "code",
   "execution_count": null,
   "id": "db58921c-5c2f-453e-bdf8-cc683420cc5e",
   "metadata": {},
   "outputs": [],
   "source": []
  }
 ],
 "metadata": {
  "kernelspec": {
   "display_name": "Python 3 (ipykernel)",
   "language": "python",
   "name": "python3"
  },
  "language_info": {
   "codemirror_mode": {
    "name": "ipython",
    "version": 3
   },
   "file_extension": ".py",
   "mimetype": "text/x-python",
   "name": "python",
   "nbconvert_exporter": "python",
   "pygments_lexer": "ipython3",
   "version": "3.9.13"
  }
 },
 "nbformat": 4,
 "nbformat_minor": 5
}
