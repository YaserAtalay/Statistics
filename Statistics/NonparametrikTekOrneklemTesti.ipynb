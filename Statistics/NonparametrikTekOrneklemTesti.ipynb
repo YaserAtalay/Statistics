{
 "cells": [
  {
   "cell_type": "markdown",
   "id": "dc2f265f-487f-46b2-9c90-d72753f53764",
   "metadata": {},
   "source": [
    "# Nonparametrik Tek Örneklem Testi"
   ]
  },
  {
   "cell_type": "code",
   "execution_count": 4,
   "id": "589f55a3-5d52-445e-94a3-81dbeae88298",
   "metadata": {},
   "outputs": [],
   "source": [
    "import numpy as np\n",
    "import pandas as pd\n",
    "olcumler = np.array([17,160,234,149,145,107,197,75,201,225,211,119,157,145,127,244,163,114,145,65,112,185,\n",
    "                     202,146,203,224,203,114,188,156,187,154,177,95,165,50,110,216,138,151,166,135,155,84,\n",
    "                     251,173,131,207,121,120])"
   ]
  },
  {
   "cell_type": "code",
   "execution_count": 5,
   "id": "62f939ed-311e-47d7-9ac9-58f012bcd14a",
   "metadata": {},
   "outputs": [],
   "source": [
    "from statsmodels.stats.descriptivestats import sign_test"
   ]
  },
  {
   "cell_type": "code",
   "execution_count": 6,
   "id": "a67565f1-f584-49b3-a4af-9e874c1a4a6b",
   "metadata": {},
   "outputs": [
    {
     "data": {
      "text/plain": [
       "(-7.0, 0.06490864707227217)"
      ]
     },
     "execution_count": 6,
     "metadata": {},
     "output_type": "execute_result"
    }
   ],
   "source": [
    "sign_test(olcumler,170)"
   ]
  },
  {
   "cell_type": "code",
   "execution_count": null,
   "id": "f7a6dbb2-3c86-473e-9cdb-c2e7d8b8a19a",
   "metadata": {},
   "outputs": [],
   "source": []
  }
 ],
 "metadata": {
  "kernelspec": {
   "display_name": "Python 3 (ipykernel)",
   "language": "python",
   "name": "python3"
  },
  "language_info": {
   "codemirror_mode": {
    "name": "ipython",
    "version": 3
   },
   "file_extension": ".py",
   "mimetype": "text/x-python",
   "name": "python",
   "nbconvert_exporter": "python",
   "pygments_lexer": "ipython3",
   "version": "3.9.13"
  }
 },
 "nbformat": 4,
 "nbformat_minor": 5
}
