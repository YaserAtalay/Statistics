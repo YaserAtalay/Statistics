{
 "cells": [
  {
   "cell_type": "markdown",
   "id": "c7d9e04c-59eb-44c7-a8bd-5f3a71213ded",
   "metadata": {},
   "source": [
    "# Örnek Teorisi"
   ]
  },
  {
   "cell_type": "code",
   "execution_count": 4,
   "id": "af25e388-3d6f-41eb-9849-863e1f3afd80",
   "metadata": {},
   "outputs": [],
   "source": [
    "import numpy as np"
   ]
  },
  {
   "cell_type": "code",
   "execution_count": 7,
   "id": "babcf54e-1536-4936-af38-c2b7d764f5e3",
   "metadata": {},
   "outputs": [],
   "source": [
    "populasyon = np.random.randint(0, 80, 10000)"
   ]
  },
  {
   "cell_type": "code",
   "execution_count": 9,
   "id": "aa41ccc6-2841-4445-b7e9-e2caeb495e1f",
   "metadata": {},
   "outputs": [
    {
     "data": {
      "text/plain": [
       "array([19, 60, 52, 56, 61, 50, 60, 47, 61, 75])"
      ]
     },
     "execution_count": 9,
     "metadata": {},
     "output_type": "execute_result"
    }
   ],
   "source": [
    "populasyon[0:10]"
   ]
  },
  {
   "cell_type": "markdown",
   "id": "a39d5937-1bde-4bb5-bd68-1a4f411372be",
   "metadata": {},
   "source": [
    "#### Orneklem cekimi"
   ]
  },
  {
   "cell_type": "code",
   "execution_count": 11,
   "id": "d755f912-1f8f-438b-b9ff-09736eaa51cc",
   "metadata": {},
   "outputs": [
    {
     "data": {
      "text/plain": [
       "array([68, 59, 35, 49, 11, 65, 24, 57, 77, 44])"
      ]
     },
     "execution_count": 11,
     "metadata": {},
     "output_type": "execute_result"
    }
   ],
   "source": [
    "np.random.seed(115) # her hangi bir sayi yazilabilir\n",
    "orneklem = np.random.choice(a = populasyon, size = 100)\n",
    "orneklem[0:10]"
   ]
  },
  {
   "cell_type": "code",
   "execution_count": 12,
   "id": "b4a1bd44-aa4b-4f62-813e-58bee078abd6",
   "metadata": {},
   "outputs": [
    {
     "data": {
      "text/plain": [
       "41.69"
      ]
     },
     "execution_count": 12,
     "metadata": {},
     "output_type": "execute_result"
    }
   ],
   "source": [
    "orneklem.mean()"
   ]
  },
  {
   "cell_type": "code",
   "execution_count": 13,
   "id": "09c042b5-c378-4c47-9e26-14beb60791e5",
   "metadata": {},
   "outputs": [
    {
     "data": {
      "text/plain": [
       "39.3224"
      ]
     },
     "execution_count": 13,
     "metadata": {},
     "output_type": "execute_result"
    }
   ],
   "source": [
    "populasyon.mean()"
   ]
  },
  {
   "cell_type": "markdown",
   "id": "25f73f85-6b84-46af-bd27-2e319d66ce6c",
   "metadata": {},
   "source": [
    "### Örneklem dağılımı"
   ]
  },
  {
   "cell_type": "code",
   "execution_count": 14,
   "id": "abc40373-a665-48d4-bc0f-70a97f3c9487",
   "metadata": {},
   "outputs": [],
   "source": [
    "np.random.seed(10)\n",
    "orneklem1 = np.random.choice(a = populasyon, size = 100)\n",
    "orneklem2 = np.random.choice(a = populasyon, size = 100)\n",
    "orneklem3 = np.random.choice(a = populasyon, size = 100)\n",
    "orneklem4 = np.random.choice(a = populasyon, size = 100)\n",
    "orneklem5 = np.random.choice(a = populasyon, size = 100)\n",
    "orneklem6 = np.random.choice(a = populasyon, size = 100)\n",
    "orneklem7 = np.random.choice(a = populasyon, size = 100)\n",
    "orneklem8 = np.random.choice(a = populasyon, size = 100)\n",
    "orneklem9 = np.random.choice(a = populasyon, size = 100)\n",
    "orneklem10 = np.random.choice(a = populasyon, size = 100)"
   ]
  },
  {
   "cell_type": "code",
   "execution_count": 15,
   "id": "695cee30-5d6f-4a9c-8866-33cd087a159c",
   "metadata": {},
   "outputs": [
    {
     "data": {
      "text/plain": [
       "39.574"
      ]
     },
     "execution_count": 15,
     "metadata": {},
     "output_type": "execute_result"
    }
   ],
   "source": [
    "(orneklem1.mean()+orneklem2.mean()+orneklem3.mean()+orneklem4.mean()+orneklem5.mean()+orneklem6.mean()\n",
    "+orneklem7.mean()+orneklem8.mean()+orneklem9.mean()+orneklem10.mean()) / 10"
   ]
  },
  {
   "cell_type": "code",
   "execution_count": null,
   "id": "05c80b13-085d-4ca2-bfb1-f2aef9135096",
   "metadata": {},
   "outputs": [],
   "source": []
  }
 ],
 "metadata": {
  "kernelspec": {
   "display_name": "Python 3 (ipykernel)",
   "language": "python",
   "name": "python3"
  },
  "language_info": {
   "codemirror_mode": {
    "name": "ipython",
    "version": 3
   },
   "file_extension": ".py",
   "mimetype": "text/x-python",
   "name": "python",
   "nbconvert_exporter": "python",
   "pygments_lexer": "ipython3",
   "version": "3.9.13"
  }
 },
 "nbformat": 4,
 "nbformat_minor": 5
}
