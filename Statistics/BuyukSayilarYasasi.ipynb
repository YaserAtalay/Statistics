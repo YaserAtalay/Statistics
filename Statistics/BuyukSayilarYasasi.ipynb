{
 "cells": [
  {
   "cell_type": "markdown",
   "id": "37f5e7c6-579d-450b-8ed4-dc875d767b3b",
   "metadata": {},
   "source": [
    "# Büyük Sayılar Yasası"
   ]
  },
  {
   "cell_type": "markdown",
   "id": "aa081ea7-502c-4924-83d9-6a0336755141",
   "metadata": {},
   "source": [
    "#### Bir rassal değikenin uzun vadeli kararlılığını tanımlayan olasılık teorimidir."
   ]
  },
  {
   "cell_type": "code",
   "execution_count": 1,
   "id": "dafcd1bb-e382-414c-8677-cae2c6adab21",
   "metadata": {},
   "outputs": [
    {
     "name": "stdout",
     "output_type": "stream",
     "text": [
      "Atış Sayısı:  2 --- Yazı Olasılığı: 0.50\n",
      "Atış Sayısı:  4 --- Yazı Olasılığı: 0.00\n",
      "Atış Sayısı:  8 --- Yazı Olasılığı: 0.62\n",
      "Atış Sayısı:  16 --- Yazı Olasılığı: 0.44\n",
      "Atış Sayısı:  32 --- Yazı Olasılığı: 0.47\n",
      "Atış Sayısı:  64 --- Yazı Olasılığı: 0.56\n",
      "Atış Sayısı:  128 --- Yazı Olasılığı: 0.51\n",
      "Atış Sayısı:  256 --- Yazı Olasılığı: 0.53\n",
      "Atış Sayısı:  512 --- Yazı Olasılığı: 0.53\n",
      "Atış Sayısı:  1024 --- Yazı Olasılığı: 0.50\n",
      "Atış Sayısı:  2048 --- Yazı Olasılığı: 0.49\n",
      "Atış Sayısı:  4096 --- Yazı Olasılığı: 0.49\n",
      "Atış Sayısı:  8192 --- Yazı Olasılığı: 0.50\n",
      "Atış Sayısı:  16384 --- Yazı Olasılığı: 0.50\n",
      "Atış Sayısı:  32768 --- Yazı Olasılığı: 0.50\n",
      "Atış Sayısı:  65536 --- Yazı Olasılığı: 0.50\n",
      "Atış Sayısı:  131072 --- Yazı Olasılığı: 0.50\n",
      "Atış Sayısı:  262144 --- Yazı Olasılığı: 0.50\n",
      "Atış Sayısı:  524288 --- Yazı Olasılığı: 0.50\n",
      "Atış Sayısı:  1048576 --- Yazı Olasılığı: 0.50\n"
     ]
    }
   ],
   "source": [
    "import numpy as np\n",
    "rng = np.random.RandomState(123)\n",
    "for i in np.arange(1,21):\n",
    "    deney_sayisi = 2**i\n",
    "    yazi_turalar = rng.randint(0, 2, size = deney_sayisi)\n",
    "    yazi_olasiliklari = np.mean(yazi_turalar)\n",
    "    print(\"Atış Sayısı: \",deney_sayisi,\"---\",\"Yazı Olasılığı: %.2f\" % (yazi_olasiliklari))"
   ]
  },
  {
   "cell_type": "code",
   "execution_count": 5,
   "id": "15979346-399a-4be3-a6e7-6c2bcd376bd5",
   "metadata": {},
   "outputs": [
    {
     "data": {
      "text/plain": [
       "array([0, 0, 0, 0, 1])"
      ]
     },
     "execution_count": 5,
     "metadata": {},
     "output_type": "execute_result"
    }
   ],
   "source": [
    "deneme = rng.randint(0, 2, size = 5)\n",
    "deneme"
   ]
  },
  {
   "cell_type": "code",
   "execution_count": null,
   "id": "36a6a677-2018-4e6f-8521-d6872489ed2b",
   "metadata": {},
   "outputs": [],
   "source": []
  }
 ],
 "metadata": {
  "kernelspec": {
   "display_name": "Python 3 (ipykernel)",
   "language": "python",
   "name": "python3"
  },
  "language_info": {
   "codemirror_mode": {
    "name": "ipython",
    "version": 3
   },
   "file_extension": ".py",
   "mimetype": "text/x-python",
   "name": "python",
   "nbconvert_exporter": "python",
   "pygments_lexer": "ipython3",
   "version": "3.9.13"
  }
 },
 "nbformat": 4,
 "nbformat_minor": 5
}
