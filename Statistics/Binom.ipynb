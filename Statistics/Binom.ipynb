{
 "cells": [
  {
   "cell_type": "markdown",
   "id": "e7378942-ddd4-47d4-902a-93e83572b32b",
   "metadata": {},
   "source": [
    "# İş Uygulaması: Reklam Harcaması Optizasyonu (Binom)"
   ]
  },
  {
   "cell_type": "markdown",
   "id": "2e4b1341-ca74-4269-9da5-7d2db6941c09",
   "metadata": {},
   "source": [
    "* Problem: Çeşitli mecralara reklam veriliyor, reklamların tıklanma ve geri dönüş oranları optime edilmeye çalışılıyor. Buna yönelik olarak belirli bir mecrada çeşitli senaryolara göre reklama tıklama olasılıkları hesaplanmak isteniyor.\n",
    "* Detaylar: 1-Bir mecrada reklam verilecek. 2-Dağılım ve reklama tıklama olasılığı biliniyor(0,01)\n",
    "* Soru: Reklamı 100 kişi gördüğünde 1,5,10 tıklanma olasılığı nedir ?"
   ]
  },
  {
   "cell_type": "code",
   "execution_count": 1,
   "id": "24e5807d-5210-4f7f-b42a-2d1c75e84a32",
   "metadata": {},
   "outputs": [],
   "source": [
    "from scipy.stats import binom"
   ]
  },
  {
   "cell_type": "code",
   "execution_count": 3,
   "id": "c1717326-20b1-4e12-8f85-3d8004c00712",
   "metadata": {},
   "outputs": [
    {
     "name": "stdout",
     "output_type": "stream",
     "text": [
      "1 kişi tıklama olasılığı :  0.36972963764972666\n",
      "5 kişi tıklama olasılığı :  0.002897787123761478\n",
      "10 kişi tıklama olasılığı :  7.006035693977194e-08\n"
     ]
    }
   ],
   "source": [
    "p = 0.01\n",
    "n = 100\n",
    "rv = binom(n, p)\n",
    "print(\"1 kişi tıklama olasılığı : \",rv.pmf(1))\n",
    "print(\"5 kişi tıklama olasılığı : \",rv.pmf(5))\n",
    "print(\"10 kişi tıklama olasılığı : \",rv.pmf(10))"
   ]
  },
  {
   "cell_type": "code",
   "execution_count": null,
   "id": "790be974-3488-4d5a-b31c-d6de4d421a38",
   "metadata": {},
   "outputs": [],
   "source": []
  }
 ],
 "metadata": {
  "kernelspec": {
   "display_name": "Python 3 (ipykernel)",
   "language": "python",
   "name": "python3"
  },
  "language_info": {
   "codemirror_mode": {
    "name": "ipython",
    "version": 3
   },
   "file_extension": ".py",
   "mimetype": "text/x-python",
   "name": "python",
   "nbconvert_exporter": "python",
   "pygments_lexer": "ipython3",
   "version": "3.9.13"
  }
 },
 "nbformat": 4,
 "nbformat_minor": 5
}
